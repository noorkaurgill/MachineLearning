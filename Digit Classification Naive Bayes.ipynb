{
  "nbformat": 4,
  "nbformat_minor": 0,
  "metadata": {
    "kernelspec": {
      "display_name": "Python 3",
      "language": "python",
      "name": "python3"
    },
    "language_info": {
      "codemirror_mode": {
        "name": "ipython",
        "version": 3
      },
      "file_extension": ".py",
      "mimetype": "text/x-python",
      "name": "python",
      "nbconvert_exporter": "python",
      "pygments_lexer": "ipython3",
      "version": "3.7.4"
    },
    "toc": {
      "base_numbering": 1,
      "nav_menu": {},
      "number_sections": false,
      "sideBar": true,
      "skip_h1_title": true,
      "title_cell": "Table of Contents",
      "title_sidebar": "Contents",
      "toc_cell": false,
      "toc_position": {},
      "toc_section_display": true,
      "toc_window_display": false
    },
    "colab": {
      "name": "noor_gill_project2.ipynb",
      "provenance": [],
      "collapsed_sections": []
    }
  },
  "cells": [
    {
      "cell_type": "markdown",
      "metadata": {
        "id": "iNALzZOKTzOS"
      },
      "source": [
        "# Digit Classification Naive Bayes\n",
        "\n"      ]
    },

    {
      "cell_type": "code",
      "metadata": {
        "id": "r8u7GmsDTzOX"
      },
      "source": [
        "# This tells matplotlib not to try opening a new window for each plot.\n",
        "%matplotlib inline\n",
        "\n",
        "# Import a bunch of libraries.\n",
        "import time\n",
        "import numpy as np\n",
        "import pandas as pd\n",
        "import itertools\n",
        "import matplotlib.pyplot as plt\n",
        "from matplotlib.ticker import MultipleLocator\n",
        "from sklearn.pipeline import Pipeline\n",
        "from sklearn.datasets import fetch_openml\n",
        "from sklearn.neighbors import KNeighborsClassifier\n",
        "from sklearn.metrics import confusion_matrix\n",
        "from sklearn.linear_model import LinearRegression\n",
        "from sklearn.naive_bayes import BernoulliNB\n",
        "from sklearn.naive_bayes import MultinomialNB\n",
        "from sklearn.naive_bayes import GaussianNB\n",
        "from sklearn.model_selection import GridSearchCV\n",
        "from sklearn.metrics import classification_report\n",
        "from sklearn.metrics import accuracy_score\n",
        "from sklearn.model_selection import KFold\n",
        "from sklearn.model_selection import cross_val_score\n",
        "\n",
        "\n",
        "# Set the randomizer seed so results are the same each time.\n",
        "np.random.seed(0)"
      ],
      "execution_count": 1,
      "outputs": []
    },
    {
      "cell_type": "code",
      "metadata": {
        "id": "bWOWoq_dTzOY",
        "colab": {
          "base_uri": "https://localhost:8080/",
          "height": 35
        },
        "outputId": "a2b4613a-5932-46d0-acdc-f22b6087632d"
      },
      "source": [
        "import sklearn\n",
        "sklearn.__version__"
      ],
      "execution_count": 2,
      "outputs": [
        {
          "output_type": "execute_result",
          "data": {
            "application/vnd.google.colaboratory.intrinsic+json": {
              "type": "string"
            },
            "text/plain": [
              "'0.22.2.post1'"
            ]
          },
          "metadata": {},
          "execution_count": 2
        }
      ]
    },
    {
      "cell_type": "markdown",
      "metadata": {
        "id": "J1-CAjA9TzOa"
      },
      "source": [
        "Load the data. Notice that the data gets partitioned into training, development, and test sets. Also, a small subset of the training data called mini_train_data and mini_train_labels gets defined, which you should use in all the experiments below, unless otherwise noted."
      ]
    },
    {
      "cell_type": "code",
      "metadata": {
        "id": "f9kPmCW0TzOb",
        "colab": {
          "base_uri": "https://localhost:8080/"
        },
        "outputId": "050b9a32-c786-49ff-9c8a-0ef819be0e85"
      },
      "source": [
        "# Load the digit data from https://www.openml.org/d/554 or from default local location '~/scikit_learn_data/...'\n",
        "X, Y = fetch_openml(name='mnist_784', return_X_y=True, cache=False, as_frame=False)\n",
        "\n",
        "# Rescale grayscale values to [0,1].\n",
        "X = X / 255.0\n",
        "\n",
        "# Shuffle the input: create a random permutation of the integers between 0 and the number of data points and apply this\n",
        "# permutation to X and Y.\n",
        "# NOTE: Each time you run this cell, you'll re-shuffle the data, resulting in a different ordering.\n",
        "shuffle = np.random.permutation(np.arange(X.shape[0]))\n",
        "X, Y = X[shuffle], Y[shuffle]\n",
        "\n",
        "print('data shape: ', X.shape)\n",
        "print('label shape:', Y.shape)\n",
        "\n",
        "# Set some variables to hold test, dev, and training data.\n",
        "test_data, test_labels = X[61000:], Y[61000:]\n",
        "dev_data, dev_labels = X[60000:61000], Y[60000:61000]\n",
        "train_data, train_labels = X[:60000], Y[:60000]\n",
        "mini_train_data, mini_train_labels = X[:1000], Y[:1000]"
      ],
      "execution_count": 3,
      "outputs": [
        {
          "output_type": "stream",
          "name": "stdout",
          "text": [
            "data shape:  (70000, 784)\n",
            "label shape: (70000,)\n"
          ]
        }
      ]
    },
    {
      "cell_type": "markdown",
      "metadata": {
        "id": "gr40-NstTzOl"
      },
      "source": [
        "### Question 1: Applying a smoothing using numpy.\n",
        "---\n",
        "\n",
        "A common image processing technique is to smooth an image by **blurring**. The idea is that the value of a particular pixel is estimated as the weighted combination of the original value and the values around it. Typically, the blurring is Gaussian, i.e., the weight of a pixel's influence is determined by a Gaussian function over the distance to the relevant pixel.\n",
        "\n",
        "1. Implement a simplified Gaussian blur filter by just using the 8 neighboring pixels like this: the smoothed value of a pixel is a weighted combination of the original value and the 8 neighboring values.\n",
        "1. Choose some weights as a starting point. Produce and evaluate four 1-Nearest Neighbor models by applying your blur filter in these ways:\n",
        "  1. Do not use the filter\n",
        "  1. Filter the training data but not the dev data\n",
        "  1. Filter the dev data but not the training data\n",
        "  1. Filter both training data and dev data\n",
        "1. Show the accuracies of the four models evaluated as described. What do you see? Can you explain why this is?\n",
        "1. Experiment with weights that makes one model's accuracy at least 0.9.\n",
        "\n",
        "Notes:\n",
        "* Train on the (filtered) mini train set.\n",
        "* Evaluate performance on the (filtered) dev set.\n",
        "* A good trick to simplify your code is to use numpy's pad function to add 0s around your original array so you don't have to deal with \"edge cases\".\n",
        "* In addition, you can use numpy to multiply and sum slices of two arrays.\n",
        "* [This notebook](https://colab.research.google.com/drive/1eJXTQLtREXQjQIsLOA9uCrBl6B049-pO) might help shows some example numpy code.\n",
        "* In general, [numpy operations will be much faster than for loops](https://colab.research.google.com/drive/1KJI4JtuIqVdyZHTTe_mAlKYA5XdLFp3_). \n",
        "* There are other Guassian blur filters available, for example in `scipy.ndimage.filters`. You are welcome to experiment with those, but in this question, please implement your own."
      ]
    },
    {
      "cell_type": "code",
      "metadata": {
        "id": "ebHGUU0eTzOl",
        "colab": {
          "base_uri": "https://localhost:8080/"
        },
        "outputId": "c7697ea1-08be-4d82-d724-1d0c37e13a5a"
      },
      "source": [
        "def Q1():\n",
        "  '''Implement a simplified Gaussian blur filter by just using the 8 neighboring pixels and applies in 4 different ways with respective model accuracies'''\n",
        "### STUDENT START ##\n",
        "  # Defining the weights: \n",
        "  weights = 1/9 * np.ones((3,3))\n",
        "  def blur(data, weights):\n",
        "    '''Helper function that blurs each image in a dataset'''\n",
        "    # Creating a new array of the same shape as the data, but with placeholder 0's: \n",
        "    blurred = np.zeros((28,28))\n",
        "    # Using np.pad to create a border of extra 0s in the original array to help with edge cases: \n",
        "    data = np.pad(data.reshape(28, 28), 1)\n",
        "    # Creating a nested for loop to iterate through the data:\n",
        "    for row in range(28): \n",
        "      for column in range(28): \n",
        "        #Updating each value to be the weighted average of each slice of neighbors around that value and multiplying the neighbors matrix by the weights:\n",
        "        blurred[row, column] = np.sum(data[row:row + 3, column:column + 3] * weights)\n",
        "    return blurred\n",
        "\n",
        "  # Filtering the mini train data and dev data as their own variables, making sure to reshape the data for subsequent steps:\n",
        "  blurred_mini_train_data = [blur(image.reshape((28, 28)), weights) for image in mini_train_data]\n",
        "  blurred_mini_train_data = np.array(blurred_mini_train_data).reshape((1000, 784))\n",
        "\n",
        "  blurred_dev_data = [blur(image.reshape((28, 28)), weights) for image in dev_data]\n",
        "  blurred_dev_data = np.array(blurred_dev_data).reshape((1000, 784))\n",
        "\n",
        "  # Producing and evaluating four 1-Nearest Neighbor models by applying the blur filter in the 4 ways specified in the directions: \n",
        "  print(\"1. Do not use the filter\")\n",
        "  model1 = KNeighborsClassifier(n_neighbors=1)\n",
        "  model1.fit(mini_train_data, mini_train_labels)\n",
        "  model1_predictions = model1.predict(dev_data) \n",
        "  print(\"Model Accuracy: \" + str(accuracy_score(dev_labels, model1_predictions)))\n",
        "  print('\\n') \n",
        "\n",
        "  print(\"2. Filter the training data but not the dev data\")\n",
        "  model2 = KNeighborsClassifier(n_neighbors=1)\n",
        "  model2.fit(blurred_mini_train_data, mini_train_labels)\n",
        "  model2_predictions = model2.predict(dev_data) \n",
        "  print(\"Model Accuracy: \" + str(accuracy_score(dev_labels, model2_predictions)))\n",
        "  print('\\n') \n",
        "\n",
        "  print(\"3. Filter the dev data but not the training data\")\n",
        "  model3 = KNeighborsClassifier(n_neighbors=1)\n",
        "  model3.fit(mini_train_data, mini_train_labels)\n",
        "  model3_predictions = model3.predict(blurred_dev_data) \n",
        "  print(\"Model Accuracy: \" + str(accuracy_score(dev_labels, model3_predictions)))\n",
        "  print('\\n') \n",
        "\n",
        "  print(\"4. Filter both training data and dev data\")\n",
        "  model4 = KNeighborsClassifier(n_neighbors=1)\n",
        "  model4.fit(blurred_mini_train_data, mini_train_labels)\n",
        "  model4_predictions = model4.predict(blurred_dev_data) \n",
        "  print(\"Model Accuracy: \" + str(accuracy_score(dev_labels, model4_predictions)))\n",
        "  print('\\n') \n",
        "  ### STUDENT END ###\n",
        "\n",
        "Q1()"
      ],
      "execution_count": 4,
      "outputs": [
        {
          "output_type": "stream",
          "name": "stdout",
          "text": [
            "1. Do not use the filter\n",
            "Model Accuracy: 0.884\n",
            "\n",
            "\n",
            "2. Filter the training data but not the dev data\n",
            "Model Accuracy: 0.907\n",
            "\n",
            "\n",
            "3. Filter the dev data but not the training data\n",
            "Model Accuracy: 0.868\n",
            "\n",
            "\n",
            "4. Filter both training data and dev data\n",
            "Model Accuracy: 0.905\n",
            "\n",
            "\n"
          ]
        }
      ]
    },
    {
      "cell_type": "markdown",
      "metadata": {
        "id": "qqcBy1LXnIkD"
      },
      "source": [
        "ANSWER: As observed with the model accuracies above, the model score ranges from 86.8% to 90.7%, with an average model accuracy of about 89.1%. The difference between the accuracies of the models is very small in the case where I filter the mini train data, with a difference of about 0.2%. The accuracy is the greatest (90.7%) when the mini train data is blurred, but the dev data is not. This is reasonable since pre-processing the training data by blurring it can make it more generalizable when predicting the dev data, whereas generalizing the dev data does not make sense. \n",
        "\n",
        "In terms of experimenting with weights that make model accuracy atleast 0.9, I used a method that yields the weighted average of each slice of neighbors around that value, which yielede a relatively high accuracy.\n",
        "\n",
        "1/(value + 8 neighboring values = 9) * np.ones(((value + value to the left + value to the right = 3),value + value to the left + value to the right = 3())\n",
        "\n",
        "--> Based on Kernel Filters Notebook provided:)"
      ]
    },
    {
      "cell_type": "markdown",
      "metadata": {
        "id": "aN3HZPGuTzOn"
      },
      "source": [
        "### Question 2: Modeling your data and experimenting with different Naive Bayes models. \n",
        "---\n",
        "\n",
        "1. Produce two Naive Bayes models and evaluate their performances.  Recall that Naive Bayes estimates P(feature|label), where each label is a categorical, not a real number.\n",
        "  1. For the first model, map pixel values to either 0 or 1, representing white or black - you should pre-process the data or use `BernoulliNB`'s `binarize` parameter to set the white/black separation threshold to 0.1.  Use `BernoulliNB` to produce the model.\n",
        "  1. For the second model, map pixel values to either 0, 1, or 2, representing white, gray, or black - you should pre-process the data, seting the white/gray/black separation thresholds to 0.1 and 0.9.  Here you'll likely need to implement a `trianarize` helper function. Since we are going beyond the binary representation of our features, you should use `MultinomialNB` to produce the model.\n",
        "1. Show the Bernoulli model accuracy and the Multinomial model accuracy.\n",
        "1. Does the multinomial version improve the results? Why or why not?\n",
        "\n",
        "Notes:\n",
        "* Train on the mini train set.\n",
        "* Evaluate performance on the dev set.\n",
        "\n"
      ]
    },
    {
      "cell_type": "code",
      "metadata": {
        "id": "_1edM3ehTzOn",
        "colab": {
          "base_uri": "https://localhost:8080/"
        },
        "outputId": "c5a2ae0f-5632-44a9-f026-3b070fe635a0"
      },
      "source": [
        "# Solution with binarization by explicit binarize function\n",
        "\n",
        "def Q2():\n",
        "  '''Produces 2 Naive Bayes models (Bernoulli and Multinomial) and evaluates their performances'''\n",
        "\n",
        "### STUDENT START ###\n",
        "  # Developing explicit binarize function that maps pixel values to either 0 or 1, representing white or black (with a threshold of 0.1):\n",
        "  def binarize(data):\n",
        "    '''Maps pixel values to either 0 or 1, representing white or black (with a threshold of 0.1)'''\n",
        "    data[np.where(mini_train_data < 0.1)] = 0\n",
        "    data[np.where(mini_train_data >= 0.1)] = 1\n",
        "    return data\n",
        "\n",
        "  #Binarizing the mini train data: \n",
        "  binarized_mini_train_data = binarize(mini_train_data)\n",
        "    \n",
        "  # Using BernoulliNB to produce the model (Alternate Method: BernoulliNB(binarize = 0.1)): \n",
        "  binary_nb = BernoulliNB()\n",
        "  # Fitting the model on the binarized mini train data and mini train labels: \n",
        "  binary_nb.fit(binarized_mini_train_data, mini_train_labels)\n",
        "\n",
        "  # Predicting on dev data: \n",
        "  binary_nb_predicted = binary_nb.predict(dev_data)\n",
        "  # Obtaining accuracy of the model using accuracy_score and normalization: \n",
        "  binary_nb_accuracy_score = accuracy_score(dev_labels, binary_nb_predicted, normalize=True)\n",
        "\n",
        "  # Printing evaluation: \n",
        "  print(\"Bernoulli Model Accuracy: \" + str(binary_nb_accuracy_score))\n",
        "\n",
        "  # Developing trianarize function that map pixel values to either 0, 1, or 2, representing white, gray, or black - setting the white/gray/black separation thresholds to 0.1 and 0.9:\n",
        "  def trianarize(data):\n",
        "    '''Maps pixel values to either 0, 1, or 2, representing white, gray, or black (with thresholds of 0.1 and 0.9)'''\n",
        "    data[np.where(mini_train_data >= 0.9)] = 2\n",
        "    data[np.where((mini_train_data >= 0.1) & (mini_train_data < 0.9))] = 1\n",
        "    data[np.where(mini_train_data < 0.1)] = 0\n",
        "    return data\n",
        "\n",
        "  # Creating a mutable copy of the mini train data for subsequent steps:\n",
        "  mini_train_data_copy = mini_train_data.copy()\n",
        "\n",
        "  # Trianarizing the mini train data: \n",
        "  trianarized_mini_train_data = trianarize(mini_train_data_copy)\n",
        "\n",
        "  # Using MultinomialNB to produce the model: \n",
        "  multinomial_nb = MultinomialNB()\n",
        "  # Fitting the model on the trianarized mini train data and mini train labels: \n",
        "  multinomial_nb.fit(trianarized_mini_train_data, mini_train_labels)\n",
        "\n",
        "  # Predicting on the dev data: \n",
        "  multinomial_nb_predicted = multinomial_nb.predict(dev_data)\n",
        "  # Obtaining accuracy of the model using accuracy_score and normalization: \n",
        "  multinomial_nb_accuracy_score = multinomial_nb.score(dev_data, dev_labels)\n",
        "\n",
        "  # Printing evaluation: \n",
        "  print(\"Multinomial Model Accuracy: \" + str(multinomial_nb_accuracy_score))\n",
        "### STUDENT END ###\n",
        "\n",
        "Q2()"
      ],
      "execution_count": 5,
      "outputs": [
        {
          "output_type": "stream",
          "name": "stdout",
          "text": [
            "Bernoulli Model Accuracy: 0.816\n",
            "Multinomial Model Accuracy: 0.797\n"
          ]
        }
      ]
    },
    {
      "cell_type": "markdown",
      "metadata": {
        "id": "Bbbpzl5ETzOp"
      },
      "source": [
        "ANSWER: The multinomial version did not improve the results because the accuracy is 0.797 compared to 0.816 for the bernoulli version. This could because we splitting the data into either white, gray, or black may not contribute to better prediction, and may instead add noise, since most of the data is either black or white. Hence, the image may be roughly binarized with high pixel values of black and low pixel values of white, with very little to none medium pixel values of gray. "
      ]
    },
    {
      "cell_type": "markdown",
      "metadata": {
        "id": "ymzuQZwsTzOp"
      },
      "source": [
        "### Question 3: Applying the grid search technique.\n",
        "1. Search across several values of the LaPlace smoothing parameter (alpha) to find its effect on a Bernoulli Naive Bayes model's performance.  Show the accuracy at each alpha value.\n",
        "1. What is the best value for alpha? What is the accuracy when alpha is near 0? Is this what you'd expect?\n",
        "\n",
        "Notes:\n",
        "* Set binarization threshold to 0.\n",
        "* Train on the mini train set.\n",
        "* Evaluate performance by 5-fold cross-validation. \n",
        "* Use `GridSearchCV(..., ..., cv=..., scoring='accuracy', iid=False)` to vary alpha and evaluate performance by cross-validation.\n",
        "* Cross-validation is based on partitions of the training data, so results will be a bit different than if you had used the dev set to evaluate performance.\n",
        "\n"
      ]
    },
    {
      "cell_type": "code",
      "metadata": {
        "id": "1qc1fG0OTzOq",
        "colab": {
          "base_uri": "https://localhost:8080/"
        },
        "outputId": "26f54d3e-b643-40c9-dc92-a57c28bd3112"
      },
      "source": [
        "def Q3(alphas):\n",
        "  '''Takes in a list of alpha values and searches across several values of the LaPlace smoothing parameter to find its effect on a Bernoulli Naive Bayes model's performance'''\n",
        "### STUDENT START ###\n",
        "  # Preparing the cross-validation procedure\n",
        "  cv = KFold(n_splits=5, random_state=1, shuffle=True)\n",
        "  # Using BernoulliNB to produce the model, setting the binarization threshold to 0: \n",
        "  model = BernoulliNB(binarize = 0)\n",
        "  # Evaluating the model using 5-fold cross validation: \n",
        "  scores = cross_val_score(model, mini_train_data, mini_train_labels, scoring='accuracy', cv=cv, n_jobs=-1)\n",
        "  # Reporting performance\n",
        "  print(\"Model Accuracy (Initial): \" +  str(np.mean(scores)))\n",
        "\n",
        "  # Using GridSearchCV(..., ..., cv=..., scoring='accuracy', iid=False) to vary alpha and evaluate performance by cross-validation:\n",
        "  grid_search = GridSearchCV(model, alphas, scoring='accuracy', verbose=3, cv=5, iid=False)\n",
        "  # Fitting on the mini train data and mini train labels:\n",
        "  grid_search.fit(mini_train_data, mini_train_labels)\n",
        "\n",
        "  # Printing the best value for alpha: \n",
        "  print(\"Best Alpha Parameter:\", grid_search.best_params_)\n",
        "  # Printing the summary of time results for all alphas: \n",
        "  print(\"Model Accuracy With Best Alpha Parameter: \" + str(grid_search.best_score_))\n",
        "\n",
        "  # Testing performance on alpha value closest to 0: \n",
        "  bernoulli_nb_smallest_alpha = BernoulliNB(binarize = alphas.get(0)) \n",
        "  # Fitting the model on the mini train data and mini train labels: \n",
        "  bernoulli_nb_smallest_alpha_fit = bernoulli_nb_smallest_alpha.fit(mini_train_data, mini_train_labels)\n",
        "  # Evaluating the model using 5-fold cross validation: \n",
        "  scores = cross_val_score(bernoulli_nb_smallest_alpha, mini_train_data, mini_train_labels, scoring='accuracy', cv=cv, n_jobs=-1)\n",
        "  # Reporting performance\n",
        "  print(\"Model Accuracy With Alpha Near 0: \" +  str(np.mean(scores)))\n",
        "\n",
        "  return grid_search.cv_results_\n",
        "### STUDENT END ###\n",
        "\n",
        "alphas = {'alpha': [1.0e-10, 0.0001, 0.001, 0.01, 0.1, 0.5, 1.0, 2.0, 10.0]}\n",
        "Q3(alphas)\n"
      ],
      "execution_count": 6,
      "outputs": [
        {
          "output_type": "stream",
          "name": "stdout",
          "text": [
            "Model Accuracy (Initial): 0.8119999999999999\n",
            "Fitting 5 folds for each of 9 candidates, totalling 45 fits\n",
            "[CV] alpha=1e-10 .....................................................\n",
            "[CV] ......................... alpha=1e-10, score=0.875, total=   0.0s\n",
            "[CV] alpha=1e-10 .....................................................\n",
            "[CV] ......................... alpha=1e-10, score=0.755, total=   0.0s\n",
            "[CV] alpha=1e-10 .....................................................\n",
            "[CV] ......................... alpha=1e-10, score=0.855, total=   0.0s\n",
            "[CV] alpha=1e-10 .....................................................\n",
            "[CV] ......................... alpha=1e-10, score=0.790, total=   0.0s\n",
            "[CV] alpha=1e-10 .....................................................\n",
            "[CV] ......................... alpha=1e-10, score=0.840, total=   0.0s\n",
            "[CV] alpha=0.0001 ....................................................\n",
            "[CV] ........................ alpha=0.0001, score=0.870, total=   0.0s\n",
            "[CV] alpha=0.0001 ....................................................\n",
            "[CV] ........................ alpha=0.0001, score=0.770, total=   0.0s\n",
            "[CV] alpha=0.0001 ....................................................\n",
            "[CV] ........................ alpha=0.0001, score=0.855, total=   0.0s\n",
            "[CV] alpha=0.0001 ....................................................\n",
            "[CV] ........................ alpha=0.0001, score=0.790, total=   0.0s\n",
            "[CV] alpha=0.0001 ....................................................\n"
          ]
        },
        {
          "output_type": "stream",
          "name": "stderr",
          "text": [
            "[Parallel(n_jobs=1)]: Using backend SequentialBackend with 1 concurrent workers.\n",
            "[Parallel(n_jobs=1)]: Done   1 out of   1 | elapsed:    0.0s remaining:    0.0s\n",
            "[Parallel(n_jobs=1)]: Done   2 out of   2 | elapsed:    0.1s remaining:    0.0s\n"
          ]
        },
        {
          "output_type": "stream",
          "name": "stdout",
          "text": [
            "[CV] ........................ alpha=0.0001, score=0.845, total=   0.0s\n",
            "[CV] alpha=0.001 .....................................................\n",
            "[CV] ......................... alpha=0.001, score=0.875, total=   0.0s\n",
            "[CV] alpha=0.001 .....................................................\n",
            "[CV] ......................... alpha=0.001, score=0.765, total=   0.0s\n",
            "[CV] alpha=0.001 .....................................................\n",
            "[CV] ......................... alpha=0.001, score=0.850, total=   0.0s\n",
            "[CV] alpha=0.001 .....................................................\n",
            "[CV] ......................... alpha=0.001, score=0.790, total=   0.0s\n",
            "[CV] alpha=0.001 .....................................................\n",
            "[CV] ......................... alpha=0.001, score=0.850, total=   0.0s\n",
            "[CV] alpha=0.01 ......................................................\n",
            "[CV] .......................... alpha=0.01, score=0.880, total=   0.0s\n",
            "[CV] alpha=0.01 ......................................................\n",
            "[CV] .......................... alpha=0.01, score=0.765, total=   0.0s\n",
            "[CV] alpha=0.01 ......................................................\n",
            "[CV] .......................... alpha=0.01, score=0.850, total=   0.0s\n",
            "[CV] alpha=0.01 ......................................................\n",
            "[CV] .......................... alpha=0.01, score=0.795, total=   0.0s\n",
            "[CV] alpha=0.01 ......................................................\n",
            "[CV] .......................... alpha=0.01, score=0.855, total=   0.0s\n",
            "[CV] alpha=0.1 .......................................................\n",
            "[CV] ........................... alpha=0.1, score=0.855, total=   0.0s\n",
            "[CV] alpha=0.1 .......................................................\n",
            "[CV] ........................... alpha=0.1, score=0.770, total=   0.0s\n",
            "[CV] alpha=0.1 .......................................................\n",
            "[CV] ........................... alpha=0.1, score=0.850, total=   0.0s\n",
            "[CV] alpha=0.1 .......................................................\n",
            "[CV] ........................... alpha=0.1, score=0.770, total=   0.0s\n",
            "[CV] alpha=0.1 .......................................................\n",
            "[CV] ........................... alpha=0.1, score=0.850, total=   0.0s\n",
            "[CV] alpha=0.5 .......................................................\n",
            "[CV] ........................... alpha=0.5, score=0.850, total=   0.0s\n",
            "[CV] alpha=0.5 .......................................................\n",
            "[CV] ........................... alpha=0.5, score=0.775, total=   0.0s\n",
            "[CV] alpha=0.5 .......................................................\n",
            "[CV] ........................... alpha=0.5, score=0.865, total=   0.0s\n",
            "[CV] alpha=0.5 .......................................................\n",
            "[CV] ........................... alpha=0.5, score=0.775, total=   0.0s\n",
            "[CV] alpha=0.5 .......................................................\n",
            "[CV] ........................... alpha=0.5, score=0.850, total=   0.0s\n",
            "[CV] alpha=1.0 .......................................................\n",
            "[CV] ........................... alpha=1.0, score=0.845, total=   0.0s\n",
            "[CV] alpha=1.0 .......................................................\n",
            "[CV] ........................... alpha=1.0, score=0.770, total=   0.0s\n",
            "[CV] alpha=1.0 .......................................................\n",
            "[CV] ........................... alpha=1.0, score=0.845, total=   0.0s\n",
            "[CV] alpha=1.0 .......................................................\n",
            "[CV] ........................... alpha=1.0, score=0.775, total=   0.0s\n",
            "[CV] alpha=1.0 .......................................................\n",
            "[CV] ........................... alpha=1.0, score=0.840, total=   0.0s\n",
            "[CV] alpha=2.0 .......................................................\n",
            "[CV] ........................... alpha=2.0, score=0.845, total=   0.0s\n",
            "[CV] alpha=2.0 .......................................................\n",
            "[CV] ........................... alpha=2.0, score=0.775, total=   0.0s\n",
            "[CV] alpha=2.0 .......................................................\n",
            "[CV] ........................... alpha=2.0, score=0.850, total=   0.0s\n",
            "[CV] alpha=2.0 .......................................................\n",
            "[CV] ........................... alpha=2.0, score=0.770, total=   0.0s\n",
            "[CV] alpha=2.0 .......................................................\n",
            "[CV] ........................... alpha=2.0, score=0.840, total=   0.0s\n",
            "[CV] alpha=10.0 ......................................................\n",
            "[CV] .......................... alpha=10.0, score=0.825, total=   0.0s\n",
            "[CV] alpha=10.0 ......................................................\n",
            "[CV] .......................... alpha=10.0, score=0.790, total=   0.0s\n",
            "[CV] alpha=10.0 ......................................................\n",
            "[CV] .......................... alpha=10.0, score=0.810, total=   0.0s\n",
            "[CV] alpha=10.0 ......................................................\n",
            "[CV] .......................... alpha=10.0, score=0.715, total=   0.0s\n",
            "[CV] alpha=10.0 ......................................................\n",
            "[CV] .......................... alpha=10.0, score=0.815, total=   0.0s\n",
            "Best Alpha Parameter: {'alpha': 0.01}\n",
            "Model Accuracy With Best Alpha Parameter: 0.829\n",
            "Model Accuracy With Alpha Near 0: 0.8119999999999999\n"
          ]
        },
        {
          "output_type": "stream",
          "name": "stderr",
          "text": [
            "[Parallel(n_jobs=1)]: Done  45 out of  45 | elapsed:    1.0s finished\n",
            "/usr/local/lib/python3.7/dist-packages/sklearn/model_selection/_search.py:823: FutureWarning: The parameter 'iid' is deprecated in 0.22 and will be removed in 0.24.\n",
            "  \"removed in 0.24.\", FutureWarning\n"
          ]
        },
        {
          "output_type": "execute_result",
          "data": {
            "text/plain": [
              "{'mean_fit_time': array([0.01671109, 0.01695137, 0.01778393, 0.01487727, 0.01592398,\n",
              "        0.01468124, 0.02122149, 0.01534243, 0.01741242]),\n",
              " 'mean_score_time': array([0.00363231, 0.00339637, 0.00333915, 0.00361619, 0.0032969 ,\n",
              "        0.0032939 , 0.00334129, 0.0034863 , 0.00353584]),\n",
              " 'mean_test_score': array([0.823, 0.826, 0.826, 0.829, 0.819, 0.823, 0.815, 0.816, 0.791]),\n",
              " 'param_alpha': masked_array(data=[1e-10, 0.0001, 0.001, 0.01, 0.1, 0.5, 1.0, 2.0, 10.0],\n",
              "              mask=[False, False, False, False, False, False, False, False,\n",
              "                    False],\n",
              "        fill_value='?',\n",
              "             dtype=object),\n",
              " 'params': [{'alpha': 1e-10},\n",
              "  {'alpha': 0.0001},\n",
              "  {'alpha': 0.001},\n",
              "  {'alpha': 0.01},\n",
              "  {'alpha': 0.1},\n",
              "  {'alpha': 0.5},\n",
              "  {'alpha': 1.0},\n",
              "  {'alpha': 2.0},\n",
              "  {'alpha': 10.0}],\n",
              " 'rank_test_score': array([4, 2, 2, 1, 6, 4, 8, 7, 9], dtype=int32),\n",
              " 'split0_test_score': array([0.875, 0.87 , 0.875, 0.88 , 0.855, 0.85 , 0.845, 0.845, 0.825]),\n",
              " 'split1_test_score': array([0.755, 0.77 , 0.765, 0.765, 0.77 , 0.775, 0.77 , 0.775, 0.79 ]),\n",
              " 'split2_test_score': array([0.855, 0.855, 0.85 , 0.85 , 0.85 , 0.865, 0.845, 0.85 , 0.81 ]),\n",
              " 'split3_test_score': array([0.79 , 0.79 , 0.79 , 0.795, 0.77 , 0.775, 0.775, 0.77 , 0.715]),\n",
              " 'split4_test_score': array([0.84 , 0.845, 0.85 , 0.855, 0.85 , 0.85 , 0.84 , 0.84 , 0.815]),\n",
              " 'std_fit_time': array([0.00428037, 0.00382578, 0.00481941, 0.00030533, 0.00099654,\n",
              "        0.00016989, 0.00450428, 0.00063312, 0.00223401]),\n",
              " 'std_score_time': array([8.06352445e-04, 6.38220485e-05, 8.92328602e-05, 7.44724063e-04,\n",
              "        2.92295344e-05, 1.10497749e-04, 2.76707744e-05, 2.45218515e-04,\n",
              "        1.32520381e-04]),\n",
              " 'std_test_score': array([0.04411349, 0.03891015, 0.04140048, 0.04235564, 0.04004997,\n",
              "        0.03957272, 0.03478505, 0.03569314, 0.03967367])}"
            ]
          },
          "metadata": {},
          "execution_count": 6
        }
      ]
    },
    {
      "cell_type": "markdown",
      "metadata": {
        "id": "6g4fnGFPTzOq"
      },
      "source": [
        "ANSWER: The best value for alpha is about 0.01 with a score of 0.829. This is what I would expect because the mini training data set is not too large and thus requires a relatively larger alpha value. The accuracy when alpha is near 0, when there is very little smoothing at alpha=1e-10, has an accuracy of about 0.812, which is lower than the average accuracy that corresponds to the optimal alpha value. This makes sense as we are under-smoothing in the case where alpha is near 0. The alpha values near the optimal value (0.001 and 0.0001) have similar scores and are both ranked second best, based on the CV results.\n"
      ]
    },
    {
      "cell_type": "markdown",
      "metadata": {
        "id": "aQ6MaDU6TzOr"
      },
      "source": [
        "### Question 4: Experimenting with Gaussian Naive Bayes\n",
        "---\n",
        "1. Produce a model using Guassian Naive Bayes, which is intended for real-valued features, and evaluate performance. You will notice that it does not work so well. \n",
        "1. Diagnose and explain the problem.\n",
        "1. Apply a simple fix so that the model accuracy is around the same as for a Bernoulli Naive Bayes model. \n",
        "1. Show the model accuracy before your fix and the model accuracy after your fix.  \n",
        "1. Explain your solution.\n",
        "\n",
        "Notes:\n",
        "* Train on the mini train set.\n",
        "* Evaluate performance on the dev set.\n",
        "* Take a look at var_smoothing argument for GaussianNB.\n",
        "* Feel free to  examine theta and sigma to better understand what's happening. In general though, **it is not a good idea to mess with internal variables of the model**. These are stored in the model's `theta_` and `sigma_` attributes."
      ]
    },
    {
      "cell_type": "code",
      "metadata": {
        "id": "XqW86YbKTzOr",
        "colab": {
          "base_uri": "https://localhost:8080/"
        },
        "outputId": "10dfc076-3440-4a88-e793-40526c2eebd3"
      },
      "source": [
        "from sklearn.decomposition import PCA\n",
        "\n",
        "def Q4():\n",
        "  '''Produces a model using Gaussian Naive Bayes and applies a simple fix so the model accuracy is the same as for a Bernoulli Naive Bayes model and displays model accuracy pre and post the change'''\n",
        "### STUDENT END ###\n",
        "  # Using GaussianNB to produce a model using Gaussian Naive Bayes: \n",
        "  gaussian_nb = GaussianNB() \n",
        "  # Fitting the Gaussian Naive Bayes model on the the mini train data and labels: \n",
        "  gaussian_nb.fit(mini_train_data, mini_train_labels) \n",
        "  # Predicting on dev data: \n",
        "  gaussian_nb_predicted = gaussian_nb.predict(dev_data) \n",
        "  # Obtaining accuracy of the model using accuracy_score and normalization:\n",
        "  gaussian_nb_accuracy_score = accuracy_score(dev_labels, gaussian_nb_predicted, normalize=True) \n",
        "\n",
        "  # Printing results/score: \n",
        "  print('Accuracy for Original Gaussian NB model:', gaussian_nb_accuracy_score) \n",
        "\n",
        "  # New line for stylistic purposes:\n",
        "  print('\\n') \n",
        "    \n",
        "  # Setting potential values for the var_smoothing, or the \"portion of the largest variance of all features that is added to variances for calculation stability\":\n",
        "  # Source: https://scikit-learn.org/stable/modules/generated/sklearn.naive_bayes.GaussianNB.html\n",
        "  params_nb = {'var_smoothing': np.logspace(0, -9, num = 100)}\n",
        "\n",
        "  # Using GridSearchCV, like in part 3, to evaluate performance by cross-validation (with new param_grid): \n",
        "  gaussian_optimization = GridSearchCV(\n",
        "                  estimator = GaussianNB(),\n",
        "                  param_grid = params_nb,\n",
        "                  cv = 10,\n",
        "                  verbose=1, \n",
        "                  scoring='accuracy') \n",
        "  # Fitting it on the mini train data and labels: \n",
        "  gaussian_optimization.fit(mini_train_data, mini_train_labels)\n",
        "\n",
        "  # New line for stylistic purposes:\n",
        "  print('\\n') \n",
        "\n",
        "  # Printing out the var_smoothing value that yields the highest accuracy: \n",
        "  print(gaussian_optimization.best_params_)\n",
        "\n",
        "  # Using GaussianNB to produce a new model using Gaussian Naive Bayes with the optimized var_smoothing param: \n",
        "  new_gaussian_nb = GaussianNB(var_smoothing = 0.15199) \n",
        "  # Fitting the new Gaussian Naive Bayes model on the the mini train data and labels: \n",
        "  new_gaussian_nb.fit(mini_train_data, mini_train_labels) \n",
        "  # Predicting on dev data: \n",
        "  new_gaussian_nb_predicted = new_gaussian_nb.predict(dev_data) \n",
        "  # Obtaining accuracy of the new model using accuracy_score and normalization:\n",
        "  new_gaussian_nb_accuracy_score = accuracy_score(dev_labels, new_gaussian_nb_predicted, normalize=True) \n",
        "\n",
        "  # New line for stylistic purposes:\n",
        "  print('\\n') \n",
        "\n",
        "  # Printing results/score: \n",
        "  print('Accuracy for New Gaussian NB model:', new_gaussian_nb_accuracy_score) \n",
        "\n",
        "  # Messing around with the sigma internal var: \n",
        "  # possible_sigmas = [] \n",
        "  # new_accuracies = [] \n",
        "\n",
        "  # for i in np.arange(0, 1, 0.1): \n",
        "  #   gaussian_nb.sigma_ =  i\n",
        "  #   new_gaussian_nb_accuracy_score = accuracy_score(dev_labels, gaussian_nb_predicted, normalize=True) \n",
        "  #   new_accuracies.append(new_gaussian_nb_accuracy_score) \n",
        "\n",
        "  # print(new_accuracies) \n",
        "\n",
        "### STUDENT END ###\n",
        "\n",
        "Q4()"
      ],
      "execution_count": 7,
      "outputs": [
        {
          "output_type": "stream",
          "name": "stdout",
          "text": [
            "Accuracy for Original Gaussian NB model: 0.459\n",
            "\n",
            "\n",
            "Fitting 10 folds for each of 100 candidates, totalling 1000 fits\n"
          ]
        },
        {
          "output_type": "stream",
          "name": "stderr",
          "text": [
            "[Parallel(n_jobs=1)]: Using backend SequentialBackend with 1 concurrent workers.\n"
          ]
        },
        {
          "output_type": "stream",
          "name": "stdout",
          "text": [
            "\n",
            "\n",
            "{'var_smoothing': 0.15199110829529336}\n",
            "\n",
            "\n",
            "Accuracy for New Gaussian NB model: 0.753\n"
          ]
        },
        {
          "output_type": "stream",
          "name": "stderr",
          "text": [
            "[Parallel(n_jobs=1)]: Done 1000 out of 1000 | elapsed:   17.5s finished\n"
          ]
        }
      ]
    },
    {
      "cell_type": "markdown",
      "metadata": {
        "id": "wE5eQXsPTzOs"
      },
      "source": [
        "ANSWER: In order to improve the performance of the Guassian Naive Bayes model, I changed the value for the var_smoothing or the portions of the greatest variance of all the features that is added to variances within the Gaussian Naive Bayes model, since the Gaussian NB function holds a roughly normal distribution. Since the variance of the initial model is small and does not allow much variation in terms of fitting the mini train data to predict for the dev data. \n",
        "\n",
        "Using GridSearchCV considers all parameter combinations and allows me to tune the hyper-parameters for the Gaussian Naive Bayes model by providing the optimal var_smoothing value. Using this var_smoothing variable allows me to add the value fo the distribution's variance, which has a default value dependent on the mini train data set. As a result, this widens the distribution and allows for more variation in predicting on the dev data by accounting for more samples that are further from the mean of the distribution, essentially \"smoothening\" the curve. \n",
        "\n",
        "Although the new accuracy for the Gaussian Naive Bayes model, 0.753, is not as high as that for the Bernoulli Naive Bayes model, it is fairly close and much higher than before. \n",
        "\n",
        "Source: https://stackoverflow.com/questions/58046129/can-someone-give-a-good-math-stats-explanation-as-to-what-the-parameter-var-smoo#:~:text=The%20variable%2C%20var_smoothing%2C%20artificially%20adds,away%20from%20the%20distribution%20mean.\n"
      ]
    },
    {
      "cell_type": "markdown",
      "metadata": {
        "id": "AXx4SGNeTzOs"
      },
      "source": [
        "### Question 5: Naive Bayes as a generative model\n",
        "---\n",
        "Because Naive Bayes produces a generative model, you can use it to generate digit images.\n",
        "\n",
        "1. Produce a Bernoulli Naive Bayes model and then use it to generate a 10x10 grid with 10 example images of each digit. Each pixel output will be either 0 or 1: randomly generating a number and then comparing it to the estimated probability of the pixel being either 0 or 1.  Show the grid.\n",
        "1. How do the generated digit images compare to the training digit images?\n",
        "\n",
        "Notes:\n",
        "* You can use np.random.rand() to generate random numbers from a uniform distribution.\n",
        "* The estimated probability of each pixel being 0 or 1 is stored in the model's `feature_log_prob_` attribute. You can use `np.exp()` to convert a log probability back to a probability.\n",
        "\n"
      ]
    },
    {
      "cell_type": "code",
      "metadata": {
        "scrolled": false,
        "id": "WDCNbv7ETzOt",
        "colab": {
          "base_uri": "https://localhost:8080/",
          "height": 1000
        },
        "outputId": "6919bf9e-51e8-4855-b715-5f29c84db4c4"
      },
      "source": [
        "def Q5(num_examples):\n",
        "  '''Produces a Bernoulli Naive Bayes model to generate a 10x10 grid of examples images for each digit'''\n",
        "  ### STUDENT START ###\n",
        "  # Using BernoulliNB to produce a model using Bernoulli Naive Bayes: \n",
        "  bernoulli_nb = BernoulliNB(binarize = 0.1) \n",
        "  # Fitting the model on the mini train data and mini train labels: \n",
        "  bernoulli_nb_fit = bernoulli_nb.fit(mini_train_data, mini_train_labels)\n",
        "\n",
        "  # Finding the estimated probability of each pixel being 0 or 1 is stored in the model's feature_log_prob_ attribute\n",
        "  # Using np.exp() to convert a log probability back to a probability\n",
        "  pixel_probabilities = np.exp(bernoulli_nb_fit.feature_log_prob_)\n",
        "\n",
        "  # Similar to number 1 in project 1, creating subplots with the number of rows equal to the number of unique elements in Y and the number of columns equal to 10, with a set figure size of 20x20:\n",
        "  fig, axs = plt.subplots(len(np.unique(Y)), 10, figsize=(20,20)) \n",
        "  \n",
        "  # Iterating through each of the 10 possible digit options: \n",
        "  for digit in range(10):\n",
        "    # Composing the grid variable with only images of digits that have higher probabilities than the ones that were randomly generated:\n",
        "    # Using np.random.rand() to generate random numbers from a uniform distribution:\n",
        "      grid = pixel_probabilities[digit] > np.random.rand(num_examples, 28 * 28)\n",
        "      # Iterating through the number of images to print for each digit (10 as per directions):\n",
        "      for image in range(num_examples): \n",
        "          # Reshaping and displaying the images: \n",
        "          axs[digit, image].imshow(grid[image].reshape((int(np.sqrt(X.shape[1])), int(np.sqrt(X.shape[1])))), cmap='Greys') \n",
        "          # Removing ticks and associated numerical values from each subplot: \n",
        "          axs[digit, image].set_xticks([], []) \n",
        "          axs[digit, image].set_yticks([], []) \n",
        "### STUDENT END ###\n",
        "\n",
        "Q5(10)"
      ],
      "execution_count": 8,
      "outputs": [
        {
          "output_type": "stream",
          "name": "stderr",
          "text": [
            "/usr/local/lib/python3.7/dist-packages/ipykernel_launcher.py:26: MatplotlibDeprecationWarning: Passing the minor parameter of set_xticks() positionally is deprecated since Matplotlib 3.2; the parameter will become keyword-only two minor releases later.\n",
            "/usr/local/lib/python3.7/dist-packages/ipykernel_launcher.py:27: MatplotlibDeprecationWarning: Passing the minor parameter of set_yticks() positionally is deprecated since Matplotlib 3.2; the parameter will become keyword-only two minor releases later.\n"
          ]
        },
        {
          "output_type": "display_data",
          "data": {
            "image/png": "[encoded data removed]",
            "text/plain": [
              "<Figure size 1440x1440 with 100 Axes>"
            ]
          },
          "metadata": {}
        }
      ]
    },
    {
      "cell_type": "markdown",
      "metadata": {
        "id": "2ENXdzngTzOu"
      },
      "source": [
        "ANSWER: When comparing the generated digit images to the training digit images, the generated digits look a lot more blurry and scattered and are not too distinguishable or readable. Connecting this back to the course material, it is harder to tell which digit is being portrayed in each image becayse Naive Bayes makes the assumption that there is independence between all pixels, which are the features in this case, which is not necessarily a valid assumption here.\n",
        "\n",
        "The training digit images were binarized with a threshold of 0.1 such that a higher threshold corresponds to a blurrier image. After this, the dataset produced was dependent on the probability of the pixel having a higher probability compared to the randomly generated number. Therefore, if the shape of the number was not as clear or distinguishable, with variation in pixel values, it became more blurry."
      ]
    },
    {
      "cell_type": "markdown",
      "metadata": {
        "id": "CRkUEi50TzOu"
      },
      "source": [
        "### Question 6: Model Calibraiton\n",
        "---\n",
        "Recall that:\n",
        " * a **strongly calibrated** classifier is rougly 90% accurate when it says it is 90% accurate. The model's estimated posterior probability of the predicted class is indeed 0.9. \n",
        " * A **weakly calibrated** classifier is more accurate when it \"says\" it is more accurate. The actual accuracy is higher when the model's estimated posterior probability is higher.\n",
        " * A **poorly calibrated** classifier has no positive correlation between the model's estimate posterior probability and the actual accuracy.\n",
        "\n",
        "1. Produce a Bernoulli Naive Bayes model.  \n",
        "1. Evaluate performance: \n",
        "  1. Partition the dev set into several buckets based on the estimated posterior probabilities of the predicted classes (predict_proba)\n",
        "    - Think of it as a bin in a histogram, where each bin groups a range of estimated posterior probabilities of the predicted classes (predict_proba).\n",
        "    - Then estimate the actual accuracy the classifier achieved for each bucket. \n",
        "    - So, for each prediction:\n",
        "       - Find the bucket whose range includes the estimated posterior probability, \n",
        "       - and update \"correct\" and \"total\" counters accordingly. \n",
        "       - Show the accuracy for each bucket.\n",
        "1. How would you characterize the calibration for this Bernoulli Naive Bayes model according to the definitions above?\n",
        "\n",
        "Notes:\n",
        "* Set LaPlace smoothing (alpha) to the optimal value (from part 8).\n",
        "* Set binarization threshold to 0.\n",
        "* Train on the mini train set.\n",
        "* Evaluate perfromance on the dev set.\n",
        "\n"
      ]
    },
    {
      "cell_type": "code",
      "metadata": {
        "id": "3Gz3NDY9TzOu",
        "colab": {
          "base_uri": "https://localhost:8080/"
        },
        "outputId": "9306a9ba-84ef-4c35-ba8f-1ca93fc3b11d"
      },
      "source": [
        "def Q6(buckets, correct, total):\n",
        "  '''Produces a Bernoulli Naive Bayes model and evaluates performance by partitioning the dev set into several buckets based on the estimated posterior probabilities of the predicted classes'''\n",
        "  ### STUDENT START ###\n",
        "  # Using BernoulliNB to produce the model with the LaPlace smoothing set to the optimal value: \n",
        "  bernoulli_nb = BernoulliNB(alpha = 0.01, binarize = 0)\n",
        "  # Fitting the model on the mini train data and mini train labels: \n",
        "  bernoulli_nb.fit(mini_train_data, mini_train_labels)\n",
        "\n",
        "  # Iterating through the dev data: \n",
        "  for x in np.arange(0, len(dev_data), 1):\n",
        "      # Set the estimated posterior probabilities to the the probability of the predicted development data label being any digits from 0 - 9:\n",
        "      estimated_posterior_probs = bernoulli_nb.predict_proba(dev_data)[x]\n",
        "      # Bucket the data based on the max of the estimated posterior probabilities: \n",
        "      # We use the max of the estimated posterior probabilities because this is the predicted development data label, or the probability of the correct predicted digit given the digit:\n",
        "      the_list = iter(buckets.index(bucket) for bucket in buckets if max(estimated_posterior_probs) <= bucket)\n",
        "      bucketed = next(the_list)\n",
        "      # Increase the number corresponding to the total bucketed data: \n",
        "      total[bucketed] += 1\n",
        "      # If the bucketed data is correct out of the total data, then increase the number corresponding to the correct bucketed data: \n",
        "      if list(estimated_posterior_probs).index(max(estimated_posterior_probs)) == int(dev_labels[x]): \n",
        "          correct[bucketed] +=1         \n",
        "### STUDENT END ###\n",
        "\n",
        "buckets = [0.5, 0.9, 0.999, 0.99999, 0.9999999, 0.999999999, 0.99999999999, 0.9999999999999, 1.0]\n",
        "correct = [0 for i in buckets]\n",
        "total = [0 for i in buckets]\n",
        "\n",
        "Q6(buckets, correct, total)\n",
        "\n",
        "# For testing purposes: \n",
        "for x in range(len(buckets)):\n",
        "  if total[x] != 0:\n",
        "    print('bucket = %.13f     total = %3d     accuracy = %.2f' %(buckets[x], total[x], (correct[x] / total[x]) * 100) + \"%\")"
      ],
      "execution_count": 9,
      "outputs": [
        {
          "output_type": "stream",
          "name": "stdout",
          "text": [
            "bucket = 0.9000000000000     total =  32     accuracy = 34.38%\n",
            "bucket = 0.9990000000000     total =  71     accuracy = 39.44%\n",
            "bucket = 0.9999900000000     total =  53     accuracy = 56.60%\n",
            "bucket = 0.9999999000000     total =  49     accuracy = 57.14%\n",
            "bucket = 0.9999999990000     total =  55     accuracy = 80.00%\n",
            "bucket = 0.9999999999900     total =  48     accuracy = 68.75%\n",
            "bucket = 0.9999999999999     total =  39     accuracy = 84.62%\n",
            "bucket = 1.0000000000000     total = 653     accuracy = 94.03%\n"
          ]
        }
      ]
    },
    {
      "cell_type": "markdown",
      "metadata": {
        "id": "7PYLz-1STzOu"
      },
      "source": [
        "ANSWER: Based on the definitions above, I would characterize the calibration for this Bernoulli Naive Bayes model as weakly calibrated as the actual accuracy is not always higher when the model's estimated posterior probability is higher. A higher confidence corresponds to a higher accuracy, but for the case where the total is 48 and the bucket bound is 0.9999999999900, the accuracy is not higher than that corresponding to a lower estimated posterior probability hence the direction of the accuracy cannot be accurately predicted based on the posterior. \n"
      ]
    },
    {
      "cell_type": "code",
      "metadata": {
        "id": "azUfK3B4tI2P"
      },
      "source": [
        ""
      ],
      "execution_count": null,
      "outputs": []
    },
    {
      "cell_type": "markdown",
      "metadata": {
        "id": "tIeZGen1TzOv"
      },
      "source": [
        "### Question 7 EXTRA CREDIT: Feature generation\n",
        "---\n",
        "1. Design new features to see if you can produce a Bernoulli Naive Bayes model with better performance.\n",
        "1. Show the accuracy of a model based on the original features and the accuracy of the model based on the new features.\n",
        "\n",
        "**Note that improving results is actually hard.**\n",
        "\n",
        "Here are a few ideas to get you started:\n",
        "- Try summing or averaging the pixel values in each row.\n",
        "- Try summing or averaging the pixel values in each column.\n",
        "- Try summing or averaging the pixel values in each square block. (pick various block sizes)\n",
        "- Try implementing [*maxpool*](https://computersciencewiki.org/index.php/Max-pooling_/_Pooling) features, taking a rolling maximum over sub-regions of a the image. \n",
        "- In any case, you can either transform the original data or add new \"features\" to it.\n",
        "\n",
        "Notes:\n",
        "* Train on the mini train set (enhanced to comprise the new features).\n",
        "* Evaulate performance on the dev set.\n",
        "* Ensure that your code is well commented."
      ]
    },
    {
      "cell_type": "code",
      "metadata": {
        "id": "6GtYu5ezTzOv"
      },
      "source": [
        "def Q7():\n",
        "\n",
        "### STUDENT START ###\n",
        "\n",
        "### STUDENT END ###\n",
        "\n",
        "Q7()"
      ],
      "execution_count": null,
      "outputs": []
    },
    {
      "cell_type": "code",
      "metadata": {
        "id": "4hOkGA6Rufd6"
      },
      "source": [
        ""
      ],
      "execution_count": null,
      "outputs": []
    }
  ]
}
